{
 "cells": [
  {
   "cell_type": "markdown",
   "metadata": {},
   "source": [
    "# Process ΑΣΕΠ data"
   ]
  },
  {
   "cell_type": "code",
   "execution_count": null,
   "metadata": {},
   "outputs": [],
   "source": [
    "%load_ext autoreload\n",
    "%autoreload 2"
   ]
  },
  {
   "cell_type": "code",
   "execution_count": null,
   "metadata": {},
   "outputs": [],
   "source": [
    "import json\n",
    "import pandas as pd\n",
    "import urllib.request\n",
    "from bs4 import BeautifulSoup\n",
    "import itables\n",
    "itables.init_notebook_mode(all_interactive=False)\n",
    "from ilsp_athenarc_asep_anonymizer.utils import parse_html_to_text, paragraph_to_doc_results\n",
    "import regex as re\n",
    "from ilsp_athenarc_asep_anonymizer.pii_anonymizer import PiiAnonymizer\n",
    "# from pathlib import Path\n",
    "# import spacy            \n",
    "# import traceback\n",
    "# import random\n",
    "# from tabulate import tabulate\n",
    "# import sys\n",
    "# from tqdm import tqdm\n",
    "# from flair.models import SequenceTagger\n",
    "\n",
    "import logging\n",
    "format = '%(asctime)s %(levelname)s %(message)-60s [%(filename)s:%(lineno)d]'\n",
    "format = '%(asctime)s %(levelname)s %(message)s [%(filename)s:%(lineno)d]'\n",
    "logging.basicConfig(level=logging.INFO,\n",
    "                    format=format)\n",
    "                    #'%(asctime)s - %(levelname)s - %(message)s [%(filename)s:%(lineno)d]')\n",
    "logger = logging.getLogger(__name__)\n",
    "\n",
    "NL=\"\\n\"\n",
    "TAB=\"\\t\"\n",
    "anonymizer = PiiAnonymizer()\n",
    "\n",
    "asep_helpdesk_sample_json_url = \"http://nlp42.ilsp.gr/asep/helpdesk-01-01-2025%2031-03-2025.json\"\n",
    "\n",
    "with urllib.request.urlopen(asep_helpdesk_sample_json_url) as url:\n",
    "    asep_helpdesk_sample_json = json.load(url)\n",
    "    asep_helpdesk_sample_data = asep_helpdesk_sample_json[2][\"data\"]\n",
    "\n",
    "df = pd.DataFrame(asep_helpdesk_sample_data)\n",
    "\n",
    "# Apply the parsing function to the 'response' column\n",
    "logger.debug(\"Parsing 'response' column...\")\n",
    "df['response_str'] = df['response'].apply(parse_html_to_text)\n",
    "logger.debug(\"'response_str' column created.\")\n",
    "\n",
    "# Apply the parsing function to the 'message' column\n",
    "logger.debug(\"Parsing 'message' column...\")\n",
    "df['message_str'] = df['message'].apply(parse_html_to_text)\n",
    "logger.debug(\"'message_str' column created.\")\n",
    "\n",
    "logger.info(df.info())"
   ]
  },
  {
   "cell_type": "code",
   "execution_count": null,
   "metadata": {},
   "outputs": [],
   "source": [
    "import matplotlib.pyplot as plt\n",
    "import seaborn as sns\n",
    "\n",
    "# Set a style for the plots\n",
    "sns.set_style(\"whitegrid\")\n",
    "\n",
    "# --- Visualization for help_categories (if primarily strings) ---\n",
    "# Drop NaN values before counting\n",
    "help_categories_counts = df['help_categories'].dropna().value_counts()\n",
    "plt.figure(figsize=(12, 7))\n",
    "sns.barplot(x=help_categories_counts.index, y=help_categories_counts.values, hue=help_categories_counts.values, palette='viridis')\n",
    "plt.title('Distribution of Help Categories')\n",
    "plt.xlabel('Help Category')\n",
    "plt.ylabel('Count')\n",
    "plt.xticks(rotation=45, ha='right')\n",
    "plt.tight_layout()\n",
    "plt.show()"
   ]
  },
  {
   "cell_type": "code",
   "execution_count": null,
   "metadata": {},
   "outputs": [],
   "source": [
    "# --- Visualization for parent_categories (if primarily strings) ---\n",
    "# Drop NaN values before counting\n",
    "parent_categories_counts = df['parent_categories'].dropna().value_counts()\n",
    "plt.figure(figsize=(12, 7))\n",
    "sns.barplot(x=parent_categories_counts.index, y=parent_categories_counts.values, hue=parent_categories_counts.values, palette='viridis')\n",
    "plt.title('Distribution of Parent Categories')\n",
    "plt.xlabel('Parent Category')\n",
    "plt.ylabel('Count')\n",
    "plt.xticks(rotation=45, ha='right')\n",
    "plt.tight_layout()\n",
    "plt.show()"
   ]
  },
  {
   "cell_type": "code",
   "execution_count": null,
   "metadata": {},
   "outputs": [],
   "source": [
    "# Define the number of cells to sample from each column\n",
    "n_samples = 10  # You can change this number to your desired sample size\n",
    "print(f\"Sampling {n_samples} cells from each column:\")\n",
    "# Iterate through each column in the DataFrame\n",
    "\n",
    "for column_name in ['help_categories', 'parent_categories', 'subject', 'message_str', 'response_str', \n",
    "                    #'contest_value', 'department_name', \n",
    "                    ]:\n",
    "    print(f\"\\n--- Sampling from column: '{column_name}' ---\")\n",
    "\n",
    "    # Check if the number of non-null values is less than n_samples\n",
    "    # If so, sample all available non-null values to avoid errors\n",
    "    # Alternatively, you could use replace=True in .sample() if you allow duplicate samples\n",
    "    if df[column_name].count() < n_samples:\n",
    "        print(f\"Column '{column_name}' has fewer than {n_samples} non-null values. Sampling all {df[column_name].count()} non-null values.\")\n",
    "        sampled_cells = df[column_name].dropna().sample(n=df[column_name].count(), replace=False)\n",
    "    else:\n",
    "        # Sample n_samples non-null values from the column\n",
    "        # .dropna() is used to ensure we only sample non-null values\n",
    "        sampled_cells = df[column_name].dropna().sample(n=n_samples, replace=False)\n",
    "    # Print the sampled cells for the current column\n",
    "    print(sampled_cells)\n",
    "    print(\"-\" * (len(column_name) + 30)) # Separator for clarity"
   ]
  },
  {
   "cell_type": "code",
   "execution_count": null,
   "metadata": {},
   "outputs": [],
   "source": [
    "# df.sample(n=100)"
   ]
  },
  {
   "cell_type": "code",
   "execution_count": null,
   "metadata": {},
   "outputs": [],
   "source": [
    "for idx, row in df.iterrows():\n",
    "    html_content = row[\"message\"] \n",
    "    if \"konstantonis\" in html_content:\n",
    "        print(\"\")        \n",
    "        print(f'Input html: {html_content}')\n",
    "        text = parse_html_to_text(html_content)\n",
    "        print(\"\")        \n",
    "        print(f'Text with new lines: {text}')\n",
    "        paragraph_results = anonymizer.anonymize(text)\n",
    "        \n",
    "        print(\"\")        \n",
    "        print(\"### Results per para ###\")\n",
    "        for paragraph_result in paragraph_results:\n",
    "            print(paragraph_result)\n",
    "        \n",
    "        print(\"\")\n",
    "        print(\"### Results for doc  ###\")\n",
    "        doc_results = paragraph_to_doc_results(paragraph_results)\n",
    "        print(json.dumps(doc_results, ensure_ascii=False, indent=2))\n",
    "\n",
    "\n"
   ]
  },
  {
   "cell_type": "code",
   "execution_count": null,
   "metadata": {},
   "outputs": [],
   "source": []
  }
 ],
 "metadata": {
  "kernelspec": {
   "display_name": ".venv",
   "language": "python",
   "name": "python3"
  },
  "language_info": {
   "codemirror_mode": {
    "name": "ipython",
    "version": 3
   },
   "file_extension": ".py",
   "mimetype": "text/x-python",
   "name": "python",
   "nbconvert_exporter": "python",
   "pygments_lexer": "ipython3",
   "version": "3.12.3"
  }
 },
 "nbformat": 4,
 "nbformat_minor": 4
}
