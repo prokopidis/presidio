{
 "cells": [
  {
   "cell_type": "code",
   "execution_count": 1,
   "metadata": {},
   "outputs": [],
   "source": [
    "#| echo: false\n",
    "#!pip install /data/home/prokopis/ilsp-nlp/ilsp_nlp/\n",
    "%load_ext autoreload\n",
    "%autoreload 2"
   ]
  },
  {
   "cell_type": "markdown",
   "metadata": {},
   "source": [
    "# Create datasets and upload them to argilla"
   ]
  },
  {
   "cell_type": "code",
   "execution_count": 2,
   "metadata": {},
   "outputs": [
    {
     "name": "stdout",
     "output_type": "stream",
     "text": [
      "2025-05-11 14:16:34,297 - INFO - Reached [__main__:81]\n"
     ]
    }
   ],
   "source": [
    "#| output: false\n",
    "import joblib\n",
    "from pathlib import Path\n",
    "\n",
    "from IPython.display import display_markdown\n",
    "from IPython.display import display, HTML\n",
    "from typing import List, Dict\n",
    "from tqdm import tqdm\n",
    "import pandas as pd\n",
    "import regex as re\n",
    "import random\n",
    "import logging\n",
    "import sys\n",
    "import pprint\n",
    "import difflib\n",
    "import urllib\n",
    "from tqdm import tqdm\n",
    "import requests\n",
    "import json\n",
    "import base64\n",
    "import matplotlib.pyplot as plt\n",
    "import seaborn as sns\n",
    "import io, base64\n",
    "from datetime import datetime\n",
    "\n",
    "import numpy as np\n",
    "import argilla as rg\n",
    "from collections import Counter\n",
    "\n",
    "from datasets import Dataset, DatasetDict, DatasetInfo, Features, Sequence, Value\n",
    "from datasets import load_from_disk\n",
    "from huggingface_hub import DatasetCard, DatasetCardData\n",
    "\n",
    "sns.set_theme()\n",
    "SPACE = \" \"\n",
    "NL=\"\\n\"\n",
    "\n",
    "import logging\n",
    "from logging.handlers import RotatingFileHandler\n",
    "import sys\n",
    "\n",
    "log_file = Path.home() / \"logs\" / \".log\"\n",
    "def setup_logger(log_file=\"out.log\", max_bytes=10*1024*1024, backup_count=5):\n",
    "    \"\"\"\n",
    "    Sets up a logger that logs INFO and above to stdout and everything to a\n",
    "    rolling file.\n",
    "\n",
    "    Args:\n",
    "        log_file: The name of the log file (default: \"out.log\").\n",
    "        max_bytes: The maximum size of the log file before it rolls over\n",
    "            (default: 10MB).\n",
    "        backup_count: The number of backup log files to keep (default: 5).\n",
    "    \"\"\"\n",
    "    # Create a logger\n",
    "    logger = logging.getLogger(__name__)  # Or use a specific name if you prefer\n",
    "    logger.setLevel(logging.DEBUG)  # Set the lowest level to be handled\n",
    "\n",
    "    # Create a formatter\n",
    "    formatter = logging.Formatter('%(asctime)s - %(levelname)s - %(message)s [%(name)s:%(lineno)d]')\n",
    "\n",
    "    # Create a rolling file handler (all levels)\n",
    "    file_handler = RotatingFileHandler(log_file,\n",
    "                                       maxBytes=max_bytes,\n",
    "                                       backupCount=backup_count)\n",
    "    file_handler.setLevel(logging.DEBUG)  # Log all levels to the file\n",
    "    file_handler.setFormatter(formatter)\n",
    "\n",
    "    # Create a handler for stdout (INFO and above)\n",
    "    stdout_handler = logging.StreamHandler(sys.stdout)\n",
    "    stdout_handler.setLevel(logging.INFO)\n",
    "    stdout_handler.setFormatter(formatter)\n",
    "\n",
    "    # Add the handlers to the logger\n",
    "    logger.handlers.clear()\n",
    "    logger.addHandler(stdout_handler)\n",
    "    # logger.addHandler(file_handler)\n",
    "\n",
    "    return logger\n",
    "\n",
    "logger = setup_logger()\n",
    "logger.info(\"Reached\")"
   ]
  },
  {
   "cell_type": "markdown",
   "metadata": {},
   "source": [
    "## Users and workspaces"
   ]
  },
  {
   "cell_type": "code",
   "execution_count": null,
   "metadata": {},
   "outputs": [],
   "source": [
    "client = rg.Argilla(\n",
    "    api_url=\"https://nlp.ilsp.gr/argilla/\",\n",
    "    api_key=\"9TYK93yXHE0NPi7x59JLvkv4--sptW-jm4iH5sosOX7st6ZkERNIeE_ATl6AFRrQXmzqvNy88dUQJRG4LUoKNcspayyBRMcUgzm-ie3G_24\" \n",
    "    #api_key=\"argilla.apikey\"        \n",
    ")\n",
    "\n",
    "\n",
    "for user in client.users:\n",
    "    user_to_delete = \"xxxxxxx\"\n",
    "    if user.username==user_to_delete:        \n",
    "        logger.debug(f\"User {user}\")\n",
    "        print(f\"username: {user.username}, role: {user.role}, password: {user.password}\")\n",
    "        user_to_delete = client.users(user_to_delete)\n",
    "        deleted_user = user_to_delete.delete()        "
   ]
  },
  {
   "cell_type": "code",
   "execution_count": 4,
   "metadata": {},
   "outputs": [],
   "source": [
    "recreate = False\n",
    "users = client.users\n",
    "if recreate:\n",
    "    users_to_create = [\n",
    "    ]    \n",
    "    for user_to_create in users_to_create:\n",
    "        user = client.users(user_to_create[\"username\"])\n",
    "        if user is not None:\n",
    "            continue\n",
    "        rg.User(\n",
    "            username=user_to_create[\"username\"],\n",
    "            password=user_to_create[\"password\"],\n",
    "            first_name=user_to_create[\"first_name\"],\n",
    "            last_name=user_to_create[\"last_name\"],\n",
    "            role=user_to_create[\"role\"],            \n",
    "        ).create()\n",
    "\n"
   ]
  },
  {
   "cell_type": "code",
   "execution_count": 8,
   "metadata": {},
   "outputs": [],
   "source": [
    "import traceback\n",
    "recreate = True\n",
    "workspaces = client.workspaces\n",
    "if recreate:    \n",
    "    workspaces_to_create = [\n",
    "            #{\"name\":\"pkyriazi\", \"users_to_add\":[\"pkyriazi\", \"prokopis\"]},\n",
    "            # {\"name\":\"prokopis\", \"users_to_add\":[\"prokopis\"]}\n",
    "        {\"name\":\"asep\", \"users_to_add\":[\"prokopis\", \"pkyriazi\"]}\n",
    "                   ]\n",
    "    for workspace_to_create in workspaces_to_create:\n",
    "        try:\n",
    "            created_workspace = rg.Workspace(name=workspace_to_create[\"name\"]).create()\n",
    "            #logger.debug(created_workspace)\n",
    "        except:\n",
    "            pass\n",
    "            #traceback.print_exc()\n",
    "            \n",
    "        for user_to_add in workspace_to_create[\"users_to_add\"]:\n",
    "            user_to_add = client.users(user_to_add)\n",
    "            try: \n",
    "                #logger.debug(user_to_add)\n",
    "                user_to_add.add_to_workspace(client.workspaces(workspace_to_create[\"name\"]))\n",
    "                #added_user = rg.Workspace(name=workspace_to_create[\"name\"]).add_user(user_to_add)\n",
    "            except:\n",
    "                pass\n",
    "\n",
    "for workspace in workspaces:    \n",
    "    for user in workspace.users:\n",
    "        pass\n",
    "        #logger.info(f\"Workspace: {workspace.name}, User:{user.username}, UserId:{user.id}\")"
   ]
  },
  {
   "cell_type": "markdown",
   "metadata": {},
   "source": [
    "## Recreate"
   ]
  },
  {
   "cell_type": "code",
   "execution_count": 9,
   "metadata": {},
   "outputs": [
    {
     "name": "stdout",
     "output_type": "stream",
     "text": [
      "2025-05-11 14:25:23,093 - INFO - Processing record #1 [__main__:113]\n"
     ]
    },
    {
     "name": "stderr",
     "output_type": "stream",
     "text": [
      "INFO:__main__:Processing record #1\n"
     ]
    },
    {
     "data": {
      "text/html": [
       "<pre style=\"white-space:pre;overflow-x:auto;line-height:normal;font-family:Menlo,'DejaVu Sans Mono',consolas,'Courier New',monospace\">DatasetRecords: The provided batch size <span style=\"color: #008080; text-decoration-color: #008080; font-weight: bold\">256</span> was normalized. Using value <span style=\"color: #008080; text-decoration-color: #008080; font-weight: bold\">250</span>.\n",
       "</pre>\n"
      ],
      "text/plain": [
       "DatasetRecords: The provided batch size \u001b[1;36m256\u001b[0m was normalized. Using value \u001b[1;36m250\u001b[0m.\n"
      ]
     },
     "metadata": {},
     "output_type": "display_data"
    },
    {
     "name": "stderr",
     "output_type": "stream",
     "text": [
      "Sending records...: 100%|██████████| 1/1 [00:01<00:00,  1.72s/batch]\n"
     ]
    }
   ],
   "source": [
    "recreate = True\n",
    "dataset_name = \"asep_emails\"\n",
    "workspace_name = \"asep\"\n",
    "input_json = \"/home/pkyriazi/projects/presidio/ilsp-athenarc-asep-anonymizer/notebooks/ASEP_anonymized_pseudo_dataset.json\"\n",
    "input_json = \"/home/pkyriazi/projects/presidio/ilsp-athenarc-asep-anonymizer/notebooks/ASEP_anonymized_dataset.json\"\n",
    "\n",
    "if recreate:\n",
    "    settings = rg.Settings(\n",
    "        guidelines=\"ΑΣΕΠ artificial emails\",\n",
    "        fields=[\n",
    "            rg.TextField(\n",
    "                name=\"subject\",\n",
    "                title=\"Subject\",\n",
    "            ),\n",
    "            rg.TextField(\n",
    "                name=\"full_text\",\n",
    "                title=\"Full text\",\n",
    "                required=True,                \n",
    "            ),\n",
    "            # rg.TextField(\n",
    "            #     name=\"masked\",\n",
    "            #     title=\"Masked\",\n",
    "            #     required=True,\n",
    "            # ),\n",
    "        ],\n",
    "        metadata=[\n",
    "             rg.TermsMetadataProperty(\n",
    "                name=\"message_type\",\n",
    "                options=[\"message\", \"response\"],\n",
    "                title=\"Message type\",\n",
    "                visible_for_annotators=True,\n",
    "            ),\n",
    "           rg.TermsMetadataProperty(\n",
    "                name=\"contest_value\",                \n",
    "                title=\"Contest value\",\n",
    "                visible_for_annotators=True,\n",
    "            ),\n",
    "            rg.TermsMetadataProperty(\n",
    "                name=\"department_name\",\n",
    "                title=\"Department name\",\n",
    "                visible_for_annotators=True,\n",
    "            ),\n",
    "            rg.TermsMetadataProperty(\n",
    "                name=\"help_categories\",\n",
    "                title=\"Help categories\",\n",
    "                visible_for_annotators=True,\n",
    "            ),\n",
    "            rg.TermsMetadataProperty(\n",
    "                name=\"parent_categories\",\n",
    "                title=\"Parent categories\",\n",
    "                visible_for_annotators=True,\n",
    "            ),\n",
    "            rg.IntegerMetadataProperty(\n",
    "                name=\"ticket_id\",\n",
    "                title=\"Ticket id\",\n",
    "                visible_for_annotators=True,\n",
    "            ),\n",
    "            rg.IntegerMetadataProperty(\n",
    "                name=\"number_id\",\n",
    "                title=\"Number id\",\n",
    "                visible_for_annotators=True,\n",
    "            ),\n",
    "            rg.TermsMetadataProperty(\n",
    "                name=\"question_date\",\n",
    "                title=\"Question date\",\n",
    "                visible_for_annotators=True,\n",
    "            ),\n",
    "        ],\n",
    "        questions=[\n",
    "            rg.SpanQuestion(\n",
    "                name=\"pii\",\n",
    "                title=\"PII\",\n",
    "                field=\"full_text\",\n",
    "                labels=[\"PERSON\", \n",
    "                        \"ADDRESS\",\n",
    "                        \"EMAIL_ADDRESS\",\n",
    "                        \"PHONE_NUMBER\",                        \n",
    "                        \"AFM\",\n",
    "                        \"AMKA\",\n",
    "                        \"ADT\",                        \n",
    "                        \"LOCATION\",                        \n",
    "                        \"GPE\", \n",
    "                        \"ORG\", \n",
    "                        \"MISC\", \n",
    "                       ],\n",
    "                description = \"Annotate text spans that should be anonymized in the full text field with one of these labels.\",\n",
    "                allow_overlapping=False,\n",
    "            ),\n",
    "        ],\n",
    "    )\n",
    "    \n",
    "    dataset = rg.Dataset(\n",
    "        name=dataset_name,\n",
    "        workspace=workspace_name, \n",
    "        settings=settings,\n",
    "        client=client,\n",
    "    )\n",
    "    \n",
    "    for cdataset in client.datasets:\n",
    "        if cdataset.name==dataset_name:\n",
    "            cdataset.delete()\n",
    "    dataset.create()\n",
    "    \n",
    "    # Open and read the JSON file\n",
    "    with open(input_json, 'r') as file:\n",
    "        data = json.load(file)    \n",
    "    \n",
    "    records = list()\n",
    "    questions = [q.name for q in dataset.questions ]\n",
    "    user_id =  client.users(\"pkyriazi\").id\n",
    "    for pidx, p in enumerate(data):\n",
    "        if (pidx ) % 1000 == 0:\n",
    "            logger.info(f\"Processing record #{pidx+1}\")\n",
    "\n",
    "        record = rg.Record(\n",
    "            fields = {\n",
    "                    \"full_text\": p[\"full_text\"],\n",
    "                    \"subject\": \"missing_subject\",\n",
    "                },\n",
    "            metadata = {},\n",
    "        )\n",
    "        for span in p[\"spans\"]:\n",
    "            record.suggestions.add(rg.Suggestion(\"pii\", value=[{\"start\": span[\"start_position\"], \"end\": span[\"end_position\"], \"label\": span[\"entity_type\"]}]))            \n",
    "\n",
    "        records.append(record)\n",
    "\n",
    "    dataset.records.log(records)\n",
    "\n"
   ]
  },
  {
   "cell_type": "code",
   "execution_count": null,
   "metadata": {},
   "outputs": [],
   "source": [
    "\n"
   ]
  },
  {
   "cell_type": "markdown",
   "metadata": {},
   "source": [
    "## Backup"
   ]
  },
  {
   "cell_type": "code",
   "execution_count": null,
   "metadata": {},
   "outputs": [],
   "source": []
  },
  {
   "cell_type": "markdown",
   "metadata": {},
   "source": [
    "## Restore"
   ]
  },
  {
   "cell_type": "code",
   "execution_count": null,
   "metadata": {},
   "outputs": [],
   "source": []
  },
  {
   "cell_type": "markdown",
   "metadata": {},
   "source": [
    "## Update records"
   ]
  },
  {
   "cell_type": "code",
   "execution_count": null,
   "metadata": {},
   "outputs": [],
   "source": []
  }
 ],
 "metadata": {
  "kernelspec": {
   "display_name": ".venv",
   "language": "python",
   "name": "python3"
  },
  "language_info": {
   "codemirror_mode": {
    "name": "ipython",
    "version": 3
   },
   "file_extension": ".py",
   "mimetype": "text/x-python",
   "name": "python",
   "nbconvert_exporter": "python",
   "pygments_lexer": "ipython3",
   "version": "3.11.4"
  }
 },
 "nbformat": 4,
 "nbformat_minor": 4
}
