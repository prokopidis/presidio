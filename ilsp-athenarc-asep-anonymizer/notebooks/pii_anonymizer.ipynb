{
 "cells": [
  {
   "cell_type": "markdown",
   "id": "f029d3d3-739c-4690-9fb4-4d1b21c35612",
   "metadata": {},
   "source": [
    "## Imports"
   ]
  },
  {
   "cell_type": "code",
   "execution_count": 1,
   "id": "896f33c7-c3a2-4c35-b2fa-3f265bf78916",
   "metadata": {
    "collapsed": true,
    "jupyter": {
     "outputs_hidden": true
    },
    "scrolled": true
   },
   "outputs": [],
   "source": [
    "#| echo: false\n",
    "#!pip install /data/home/prokopis/ilsp-nlp/ilsp_nlp/\n",
    "%load_ext autoreload\n",
    "%autoreload 2\n"
   ]
  },
  {
   "cell_type": "code",
   "execution_count": 2,
   "id": "6cf5d11e",
   "metadata": {},
   "outputs": [
    {
     "name": "stderr",
     "output_type": "stream",
     "text": [
      "2025-05-18 15:07:28 INFO PyTorch version 2.7.0 available.\n",
      "2025-05-18 15:07:28 INFO Initializing Stanza NLP engine for Greek language.\n",
      "2025-05-18 15:07:28 WARNING model_to_presidio_entity_mapping is missing from configuration, using default\n",
      "2025-05-18 15:07:28 WARNING low_score_entity_names is missing from configuration, using default\n",
      "2025-05-18 15:07:28 WARNING labels_to_ignore is missing from configuration, using default\n",
      "2025-05-18 15:07:28 WARNING Language el package default expects mwt, which has been added\n",
      "2025-05-18 15:07:28 INFO Loading these models for language: el (Greek):\n",
      "============================\n",
      "| Processor | Package      |\n",
      "----------------------------\n",
      "| tokenize  | gdt          |\n",
      "| mwt       | gdt          |\n",
      "| pos       | gdt_nocharlm |\n",
      "| lemma     | gdt_nocharlm |\n",
      "| ner       | default      |\n",
      "============================\n",
      "\n",
      "2025-05-18 15:07:28 INFO Using device: cuda\n",
      "2025-05-18 15:07:28 INFO Loading: tokenize\n",
      "2025-05-18 15:07:28 INFO Loading: mwt\n",
      "2025-05-18 15:07:28 INFO Loading: pos\n",
      "2025-05-18 15:07:30 INFO Loading: lemma\n",
      "2025-05-18 15:07:30 INFO Loading: ner\n",
      "2025-05-18 15:07:32 INFO Done loading processors!\n",
      "2025-05-18 15:07:32 INFO registry not provided, creating default.\n",
      "2025-05-18 15:07:32 INFO Loaded recognizer: CreditCardRecognizer\n",
      "2025-05-18 15:07:32 INFO Loaded recognizer: CreditCardRecognizer\n",
      "2025-05-18 15:07:32 INFO Loaded recognizer: CreditCardRecognizer\n",
      "2025-05-18 15:07:32 INFO Loaded recognizer: CreditCardRecognizer\n",
      "2025-05-18 15:07:32 INFO Loaded recognizer: UsBankRecognizer\n",
      "2025-05-18 15:07:32 INFO Loaded recognizer: UsLicenseRecognizer\n",
      "2025-05-18 15:07:32 INFO Loaded recognizer: UsItinRecognizer\n",
      "2025-05-18 15:07:32 INFO Loaded recognizer: UsPassportRecognizer\n",
      "2025-05-18 15:07:32 INFO Loaded recognizer: UsSsnRecognizer\n",
      "2025-05-18 15:07:32 INFO Loaded recognizer: NhsRecognizer\n",
      "2025-05-18 15:07:32 INFO Loaded recognizer: UkNinoRecognizer\n",
      "2025-05-18 15:07:32 INFO Loaded recognizer: SgFinRecognizer\n",
      "2025-05-18 15:07:32 INFO Loaded recognizer: AuAbnRecognizer\n",
      "2025-05-18 15:07:32 INFO Loaded recognizer: AuAcnRecognizer\n",
      "2025-05-18 15:07:32 INFO Loaded recognizer: AuTfnRecognizer\n",
      "2025-05-18 15:07:32 INFO Loaded recognizer: AuMedicareRecognizer\n",
      "2025-05-18 15:07:32 INFO Loaded recognizer: InPanRecognizer\n",
      "2025-05-18 15:07:32 INFO Loaded recognizer: InAadhaarRecognizer\n",
      "2025-05-18 15:07:32 INFO Loaded recognizer: InVehicleRegistrationRecognizer\n",
      "2025-05-18 15:07:32 INFO Loaded recognizer: InPassportRecognizer\n",
      "2025-05-18 15:07:32 INFO Loaded recognizer: EsNifRecognizer\n",
      "2025-05-18 15:07:32 INFO Loaded recognizer: EsNieRecognizer\n",
      "2025-05-18 15:07:32 INFO Loaded recognizer: ItDriverLicenseRecognizer\n",
      "2025-05-18 15:07:32 INFO Loaded recognizer: ItFiscalCodeRecognizer\n",
      "2025-05-18 15:07:32 INFO Loaded recognizer: ItVatCodeRecognizer\n",
      "2025-05-18 15:07:32 INFO Loaded recognizer: ItIdentityCardRecognizer\n",
      "2025-05-18 15:07:32 INFO Loaded recognizer: ItPassportRecognizer\n",
      "2025-05-18 15:07:32 INFO Loaded recognizer: PlPeselRecognizer\n",
      "2025-05-18 15:07:32 INFO Loaded recognizer: CryptoRecognizer\n",
      "2025-05-18 15:07:32 INFO Loaded recognizer: DateRecognizer\n",
      "2025-05-18 15:07:32 INFO Loaded recognizer: EmailRecognizer\n",
      "2025-05-18 15:07:32 INFO Loaded recognizer: IbanRecognizer\n",
      "2025-05-18 15:07:32 INFO Loaded recognizer: IpRecognizer\n",
      "2025-05-18 15:07:32 INFO Loaded recognizer: MedicalLicenseRecognizer\n",
      "2025-05-18 15:07:32 INFO Loaded recognizer: PhoneRecognizer\n",
      "2025-05-18 15:07:32 INFO Loaded recognizer: UrlRecognizer\n",
      "2025-05-18 15:07:32 INFO Loaded recognizer: InVoterRecognizer\n",
      "2025-05-18 15:07:32 WARNING Recognizer not added to registry because language is not supported by registry - CreditCardRecognizer supported languages: es, registry supported languages: en\n",
      "2025-05-18 15:07:32 WARNING Recognizer not added to registry because language is not supported by registry - CreditCardRecognizer supported languages: it, registry supported languages: en\n",
      "2025-05-18 15:07:32 WARNING Recognizer not added to registry because language is not supported by registry - CreditCardRecognizer supported languages: pl, registry supported languages: en\n",
      "2025-05-18 15:07:32 WARNING Recognizer not added to registry because language is not supported by registry - EsNifRecognizer supported languages: es, registry supported languages: en\n",
      "2025-05-18 15:07:32 WARNING Recognizer not added to registry because language is not supported by registry - EsNieRecognizer supported languages: es, registry supported languages: en\n",
      "2025-05-18 15:07:32 WARNING Recognizer not added to registry because language is not supported by registry - ItDriverLicenseRecognizer supported languages: it, registry supported languages: en\n",
      "2025-05-18 15:07:32 WARNING Recognizer not added to registry because language is not supported by registry - ItFiscalCodeRecognizer supported languages: it, registry supported languages: en\n",
      "2025-05-18 15:07:32 WARNING Recognizer not added to registry because language is not supported by registry - ItVatCodeRecognizer supported languages: it, registry supported languages: en\n",
      "2025-05-18 15:07:32 WARNING Recognizer not added to registry because language is not supported by registry - ItIdentityCardRecognizer supported languages: it, registry supported languages: en\n",
      "2025-05-18 15:07:32 WARNING Recognizer not added to registry because language is not supported by registry - ItPassportRecognizer supported languages: it, registry supported languages: en\n",
      "2025-05-18 15:07:32 WARNING Recognizer not added to registry because language is not supported by registry - PlPeselRecognizer supported languages: pl, registry supported languages: en\n",
      "2025-05-18 15:07:32 INFO Loaded recognizer: StanzaRecognizer\n",
      "2025-05-18 15:07:32 INFO Loaded recognizer: EmailRecognizer\n",
      "2025-05-18 15:07:32 INFO Loaded recognizer: ElPhoneRecognizer\n"
     ]
    },
    {
     "name": "stdout",
     "output_type": "stream",
     "text": [
      "2025-05-18 15:07:34,987 SequenceTagger predicts: Dictionary with 25 tags: O, S-DOCUMENT, B-DOCUMENT, E-DOCUMENT, I-DOCUMENT, S-PERSON, B-PERSON, E-PERSON, I-PERSON, S-FAC, B-FAC, E-FAC, I-FAC, S-GPE, B-GPE, E-GPE, I-GPE, S-ORG, B-ORG, E-ORG, I-ORG, S-MISC, B-MISC, E-MISC, I-MISC\n"
     ]
    },
    {
     "name": "stderr",
     "output_type": "stream",
     "text": [
      "2025-05-18 15:07:35 INFO Loaded recognizer: ElAddressRecognizer\n",
      "2025-05-18 15:07:35 INFO Loaded address model from ilsp/justice decisions-ner-model.pt\n",
      "2025-05-18 15:07:35 INFO Loaded recognizer: CreditCardRecognizer\n",
      "2025-05-18 15:07:35 INFO Loaded recognizer: IbanRecognizer\n",
      "2025-05-18 15:07:35 INFO Added anonymizer CustomReplace\n"
     ]
    }
   ],
   "source": [
    "from pathlib import Path\n",
    "from logging import getLogger\n",
    "from pprint import pprint\n",
    "logger = getLogger(__name__)\n",
    "import logging\n",
    "logging.basicConfig(\n",
    "    format='%(asctime)s %(levelname)s %(message)s',\n",
    "    level=logging.INFO,\n",
    "    datefmt='%Y-%m-%d %H:%M:%S'\n",
    ")\n",
    "from ilsp_athenarc_asep_anonymizer.pii_anonymizer import PiiAnonymizer\n",
    "NL=\"\\n\"\n",
    "TAB=\"\\t\"\n",
    "anonymizer = PiiAnonymizer()\n"
   ]
  },
  {
   "cell_type": "code",
   "execution_count": null,
   "id": "c789fea4",
   "metadata": {},
   "outputs": [],
   "source": [
    "\n",
    "example_text = Path(\"../tests/resources/examples.txt\")\n",
    "with open(example_text, \"r\") as f:\n",
    "    text = f.read() \n",
    "\n",
    "anonymization_results = anonymizer.anonymize(text)\n",
    "\n",
    "for p_result in anonymization_results:\n",
    "    print(f'Full text: {p_result[\"full_text\"]}')\n",
    "    print(f'Masked text: {p_result[\"masked\"]}')\n",
    "    for span in p_result[\"spans\"]:\n",
    "        pprint(span)\n",
    "\n",
    "    print(\"=========================================\")\n",
    "    print(\"\")"
   ]
  },
  {
   "cell_type": "code",
   "execution_count": null,
   "id": "d85523fe-003f-46ff-a3fa-f8e0cbf23e07",
   "metadata": {},
   "outputs": [],
   "source": [
    "##from ilsp_athenarc_asep_anonymizer.recognizers.el_address_recognizer import ElAddressRecognizer\n",
    "##el_address_recognizer = ElAddressRecognizer()"
   ]
  },
  {
   "cell_type": "markdown",
   "id": "de9f4a45",
   "metadata": {},
   "source": []
  }
 ],
 "metadata": {
  "kernelspec": {
   "display_name": ".venv",
   "language": "python",
   "name": "python3"
  },
  "language_info": {
   "codemirror_mode": {
    "name": "ipython",
    "version": 3
   },
   "file_extension": ".py",
   "mimetype": "text/x-python",
   "name": "python",
   "nbconvert_exporter": "python",
   "pygments_lexer": "ipython3",
   "version": "3.12.3"
  },
  "toc-autonumbering": true
 },
 "nbformat": 4,
 "nbformat_minor": 5
}
