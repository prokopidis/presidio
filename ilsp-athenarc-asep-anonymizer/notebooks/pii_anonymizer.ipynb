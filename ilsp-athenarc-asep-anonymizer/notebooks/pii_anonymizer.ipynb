{
 "cells": [
  {
   "cell_type": "markdown",
   "id": "f029d3d3-739c-4690-9fb4-4d1b21c35612",
   "metadata": {},
   "source": [
    "## Imports"
   ]
  },
  {
   "cell_type": "code",
   "execution_count": 22,
   "id": "896f33c7-c3a2-4c35-b2fa-3f265bf78916",
   "metadata": {
    "collapsed": true,
    "jupyter": {
     "outputs_hidden": true
    },
    "scrolled": true
   },
   "outputs": [],
   "source": [
    "#| echo: false\n",
    "#!pip install /data/home/prokopis/ilsp-nlp/ilsp_nlp/\n",
    "%load_ext autoreload\n",
    "%autoreload 2\n"
   ]
  },
  {
   "cell_type": "code",
   "execution_count": 1,
   "id": "6cf5d11e",
   "metadata": {},
   "outputs": [
    {
     "name": "stderr",
     "output_type": "stream",
     "text": [
      "/data/home/prokopis/src/presidio/ilsp-athenarc-asep-anonymizer/.venv/lib/python3.11/site-packages/tqdm/auto.py:21: TqdmWarning: IProgress not found. Please update jupyter and ipywidgets. See https://ipywidgets.readthedocs.io/en/stable/user_install.html\n",
      "  from .autonotebook import tqdm as notebook_tqdm\n",
      "2025-04-24 17:52:03 INFO Initializing Stanza NLP engine for Greek language.\n",
      "2025-04-24 17:52:03 WARNING model_to_presidio_entity_mapping is missing from configuration, using default\n",
      "2025-04-24 17:52:03 WARNING low_score_entity_names is missing from configuration, using default\n",
      "2025-04-24 17:52:03 WARNING labels_to_ignore is missing from configuration, using default\n",
      "2025-04-24 17:52:03 WARNING Language el package default expects mwt, which has been added\n",
      "2025-04-24 17:52:03 INFO Loading these models for language: el (Greek):\n",
      "============================\n",
      "| Processor | Package      |\n",
      "----------------------------\n",
      "| tokenize  | gdt          |\n",
      "| mwt       | gdt          |\n",
      "| pos       | gdt_nocharlm |\n",
      "| lemma     | gdt_nocharlm |\n",
      "| ner       | default      |\n",
      "============================\n",
      "\n",
      "2025-04-24 17:52:03 INFO Using device: cuda\n",
      "2025-04-24 17:52:03 INFO Loading: tokenize\n",
      "2025-04-24 17:52:04 INFO Loading: mwt\n",
      "2025-04-24 17:52:04 INFO Loading: pos\n",
      "2025-04-24 17:52:06 INFO Loading: lemma\n",
      "2025-04-24 17:52:06 INFO Loading: ner\n",
      "2025-04-24 17:52:08 INFO Done loading processors!\n",
      "2025-04-24 17:52:08 INFO registry not provided, creating default.\n",
      "2025-04-24 17:52:08 INFO Loaded recognizer: CreditCardRecognizer\n",
      "2025-04-24 17:52:08 INFO Loaded recognizer: CreditCardRecognizer\n",
      "2025-04-24 17:52:08 INFO Loaded recognizer: CreditCardRecognizer\n",
      "2025-04-24 17:52:08 INFO Loaded recognizer: CreditCardRecognizer\n",
      "2025-04-24 17:52:08 INFO Loaded recognizer: UsBankRecognizer\n",
      "2025-04-24 17:52:08 INFO Loaded recognizer: UsLicenseRecognizer\n",
      "2025-04-24 17:52:08 INFO Loaded recognizer: UsItinRecognizer\n",
      "2025-04-24 17:52:08 INFO Loaded recognizer: UsPassportRecognizer\n",
      "2025-04-24 17:52:08 INFO Loaded recognizer: UsSsnRecognizer\n",
      "2025-04-24 17:52:08 INFO Loaded recognizer: NhsRecognizer\n",
      "2025-04-24 17:52:08 INFO Loaded recognizer: UkNinoRecognizer\n",
      "2025-04-24 17:52:08 INFO Loaded recognizer: SgFinRecognizer\n",
      "2025-04-24 17:52:08 INFO Loaded recognizer: AuAbnRecognizer\n",
      "2025-04-24 17:52:08 INFO Loaded recognizer: AuAcnRecognizer\n",
      "2025-04-24 17:52:08 INFO Loaded recognizer: AuTfnRecognizer\n",
      "2025-04-24 17:52:08 INFO Loaded recognizer: AuMedicareRecognizer\n",
      "2025-04-24 17:52:08 INFO Loaded recognizer: InPanRecognizer\n",
      "2025-04-24 17:52:08 INFO Loaded recognizer: InAadhaarRecognizer\n",
      "2025-04-24 17:52:08 INFO Loaded recognizer: InVehicleRegistrationRecognizer\n",
      "2025-04-24 17:52:08 INFO Loaded recognizer: InPassportRecognizer\n",
      "2025-04-24 17:52:08 INFO Loaded recognizer: EsNifRecognizer\n",
      "2025-04-24 17:52:08 INFO Loaded recognizer: EsNieRecognizer\n",
      "2025-04-24 17:52:08 INFO Loaded recognizer: ItDriverLicenseRecognizer\n",
      "2025-04-24 17:52:08 INFO Loaded recognizer: ItFiscalCodeRecognizer\n",
      "2025-04-24 17:52:08 INFO Loaded recognizer: ItVatCodeRecognizer\n",
      "2025-04-24 17:52:08 INFO Loaded recognizer: ItIdentityCardRecognizer\n",
      "2025-04-24 17:52:08 INFO Loaded recognizer: ItPassportRecognizer\n",
      "2025-04-24 17:52:08 INFO Loaded recognizer: PlPeselRecognizer\n",
      "2025-04-24 17:52:08 INFO Loaded recognizer: CryptoRecognizer\n",
      "2025-04-24 17:52:08 INFO Loaded recognizer: DateRecognizer\n",
      "2025-04-24 17:52:08 INFO Loaded recognizer: EmailRecognizer\n",
      "2025-04-24 17:52:08 INFO Loaded recognizer: IbanRecognizer\n",
      "2025-04-24 17:52:08 INFO Loaded recognizer: IpRecognizer\n",
      "2025-04-24 17:52:08 INFO Loaded recognizer: MedicalLicenseRecognizer\n",
      "2025-04-24 17:52:08 INFO Loaded recognizer: PhoneRecognizer\n",
      "2025-04-24 17:52:08 INFO Loaded recognizer: UrlRecognizer\n",
      "2025-04-24 17:52:08 INFO Loaded recognizer: InVoterRecognizer\n",
      "2025-04-24 17:52:08 WARNING Recognizer not added to registry because language is not supported by registry - CreditCardRecognizer supported languages: es, registry supported languages: en\n",
      "2025-04-24 17:52:08 WARNING Recognizer not added to registry because language is not supported by registry - CreditCardRecognizer supported languages: it, registry supported languages: en\n",
      "2025-04-24 17:52:08 WARNING Recognizer not added to registry because language is not supported by registry - CreditCardRecognizer supported languages: pl, registry supported languages: en\n",
      "2025-04-24 17:52:08 WARNING Recognizer not added to registry because language is not supported by registry - EsNifRecognizer supported languages: es, registry supported languages: en\n",
      "2025-04-24 17:52:08 WARNING Recognizer not added to registry because language is not supported by registry - EsNieRecognizer supported languages: es, registry supported languages: en\n",
      "2025-04-24 17:52:08 WARNING Recognizer not added to registry because language is not supported by registry - ItDriverLicenseRecognizer supported languages: it, registry supported languages: en\n",
      "2025-04-24 17:52:08 WARNING Recognizer not added to registry because language is not supported by registry - ItFiscalCodeRecognizer supported languages: it, registry supported languages: en\n",
      "2025-04-24 17:52:08 WARNING Recognizer not added to registry because language is not supported by registry - ItVatCodeRecognizer supported languages: it, registry supported languages: en\n",
      "2025-04-24 17:52:08 WARNING Recognizer not added to registry because language is not supported by registry - ItIdentityCardRecognizer supported languages: it, registry supported languages: en\n",
      "2025-04-24 17:52:08 WARNING Recognizer not added to registry because language is not supported by registry - ItPassportRecognizer supported languages: it, registry supported languages: en\n",
      "2025-04-24 17:52:08 WARNING Recognizer not added to registry because language is not supported by registry - PlPeselRecognizer supported languages: pl, registry supported languages: en\n",
      "2025-04-24 17:52:08 INFO Loaded recognizer: StanzaRecognizer\n",
      "2025-04-24 17:52:08 INFO Loaded recognizer: EmailRecognizer\n",
      "2025-04-24 17:52:08 INFO Loaded recognizer: PhoneRecognizer\n",
      "2025-04-24 17:52:08 INFO Loaded recognizer: CreditCardRecognizer\n",
      "2025-04-24 17:52:08 INFO Loaded recognizer: IbanRecognizer\n"
     ]
    },
    {
     "name": "stdout",
     "output_type": "stream",
     "text": [
      "['SUPPORTED_LANG', '__class__', '__delattr__', '__dict__', '__dir__', '__doc__', '__eq__', '__format__', '__ge__', '__getattribute__', '__getstate__', '__gt__', '__hash__', '__init__', '__init_subclass__', '__le__', '__lt__', '__module__', '__ne__', '__new__', '__reduce__', '__reduce_ex__', '__repr__', '__setattr__', '__sizeof__', '__str__', '__subclasshook__', '__weakref__', 'analyze', 'analyzer', 'anonymize', 'anonymize_paragraph', 'anonymizer_engine', 'operators']\n"
     ]
    }
   ],
   "source": [
    "\n",
    "import os\n",
    "import dotenv\n",
    "from pathlib import Path\n",
    "import subprocess\n",
    "import json\n",
    "import pandas as pd\n",
    "from logging import getLogger\n",
    "logger = getLogger(__name__)\n",
    "import logging\n",
    "logging.basicConfig(\n",
    "    format='%(asctime)s %(levelname)s %(message)s',\n",
    "    level=logging.INFO,\n",
    "    datefmt='%Y-%m-%d %H:%M:%S'\n",
    ")\n",
    "from ilsp_athenarc_asep_anonymizer.pii_anonymizer import PiiAnonymizer\n",
    "NL=\"\\n\"\n",
    "TAB=\"\\t\"\n",
    "anonymizer = PiiAnonymizer()\n",
    "print(dir(anonymizer))"
   ]
  },
  {
   "cell_type": "code",
   "execution_count": 5,
   "id": "c789fea4",
   "metadata": {},
   "outputs": [
    {
     "name": "stderr",
     "output_type": "stream",
     "text": [
      "2025-04-24 17:55:14 INFO Fetching all recognizers for language el\n"
     ]
    },
    {
     "name": "stdout",
     "output_type": "stream",
     "text": [
      "{'full_text': 'Κατηγόρησαν τον δικηγόρο Τιερί Χερτσόγκ ότι επιχείρησε να δωροδοκήσει τον Ζιλμπέρ Αζιμπέρ, δικαστή στο Ακυρωτικό Δικαστήριο της Γαλλίας, με αντάλλαγμα απόρρητες πληροφορίες από άλλη έρευνα εναντίον του Σαρκοζί.', 'masked': 'Κατηγόρησαν τον δικηγόρο <PERSON> ότι επιχείρησε να δωροδοκήσει τον <PERSON>, δικαστή στο Ακυρωτικό Δικαστήριο της <LOCATION>, με αντάλλαγμα απόρρητες πληροφορίες από άλλη έρευνα εναντίον του <PERSON>.', 'spans': [{'entity_type': 'PERSON', 'entity_value': '<PERSON>', 'start': 192, 'end': 200}, {'entity_type': 'LOCATION', 'entity_value': '<LOCATION>', 'start': 115, 'end': 125}, {'entity_type': 'PERSON', 'entity_value': '<PERSON>', 'start': 68, 'end': 76}, {'entity_type': 'PERSON', 'entity_value': '<PERSON>', 'start': 25, 'end': 33}]}\n"
     ]
    }
   ],
   "source": [
    "\n",
    "example_text = Path(\"../tests/resources/example_text.txt\")\n",
    "with open(example_text, \"r\") as f:\n",
    "    text = f.read() \n",
    "\n",
    "# anonymization_results = anonymizer.anonymize_paragraph(text.split(NL)[0])\n",
    "# print(anonymization_results)\n",
    "def anonymize(text):\n",
    "    \"\"\"\n",
    "    Anonymize the input text.\n",
    "    Args:\n",
    "        text (str): The input text to anonymize.\n",
    "    Returns:\n",
    "        list: A list of dictionaries containing the anonymization results for each paragraph.\n",
    "    \"\"\"        \n",
    "\n",
    "    results = list()\n",
    "    for paragraph in text.split(NL):\n",
    "        if paragraph.strip():\n",
    "            paragraph_results = anonymizer.anonymize_paragraph(paragraph)\n",
    "            results.append(paragraph_results)\n",
    "    return results \n",
    "\n",
    "anonymization_results = anonymizer.anonymize_paragraph(text.split(NL)[0])\n",
    "\n",
    "print(anonymization_results)"
   ]
  },
  {
   "cell_type": "code",
   "execution_count": null,
   "id": "37fd1378-3022-4b8c-9655-507a59a5d92a",
   "metadata": {},
   "outputs": [],
   "source": []
  },
  {
   "cell_type": "markdown",
   "id": "7815c863-4a25-4f2f-a014-253828dacdb4",
   "metadata": {},
   "source": [
    "\n",
    "\n"
   ]
  },
  {
   "cell_type": "markdown",
   "id": "d85523fe-003f-46ff-a3fa-f8e0cbf23e07",
   "metadata": {},
   "source": []
  }
 ],
 "metadata": {
  "kernelspec": {
   "display_name": ".venv",
   "language": "python",
   "name": "python3"
  },
  "language_info": {
   "codemirror_mode": {
    "name": "ipython",
    "version": 3
   },
   "file_extension": ".py",
   "mimetype": "text/x-python",
   "name": "python",
   "nbconvert_exporter": "python",
   "pygments_lexer": "ipython3",
   "version": "3.11.4"
  },
  "toc-autonumbering": true
 },
 "nbformat": 4,
 "nbformat_minor": 5
}
