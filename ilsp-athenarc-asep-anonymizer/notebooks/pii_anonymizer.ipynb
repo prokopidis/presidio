{
 "cells": [
  {
   "cell_type": "markdown",
   "id": "f029d3d3-739c-4690-9fb4-4d1b21c35612",
   "metadata": {},
   "source": [
    "## Imports"
   ]
  },
  {
   "cell_type": "code",
   "execution_count": null,
   "id": "896f33c7-c3a2-4c35-b2fa-3f265bf78916",
   "metadata": {
    "collapsed": true,
    "jupyter": {
     "outputs_hidden": true
    },
    "scrolled": true
   },
   "outputs": [],
   "source": [
    "#| echo: false\n",
    "#!pip install /data/home/prokopis/ilsp-nlp/ilsp_nlp/\n",
    "%load_ext autoreload\n",
    "%autoreload 2\n"
   ]
  },
  {
   "cell_type": "code",
   "execution_count": 6,
   "id": "6cf5d11e",
   "metadata": {},
   "outputs": [
    {
     "name": "stdout",
     "output_type": "stream",
     "text": [
      "2025-04-28 21:13:26,505 SequenceTagger predicts: Dictionary with 25 tags: O, S-DOCUMENT, B-DOCUMENT, E-DOCUMENT, I-DOCUMENT, S-PERSON, B-PERSON, E-PERSON, I-PERSON, S-FAC, B-FAC, E-FAC, I-FAC, S-GPE, B-GPE, E-GPE, I-GPE, S-ORG, B-ORG, E-ORG, I-ORG, S-MISC, B-MISC, E-MISC, I-MISC\n"
     ]
    },
    {
     "name": "stderr",
     "output_type": "stream",
     "text": [
      "2025-04-28 21:13:26 INFO Loaded recognizer: ElAddressRecognizer\n",
      "2025-04-28 21:13:26 INFO Loaded address model from ilsp/justice decisions-ner-model.pt\n",
      "2025-04-28 21:13:26 INFO Loaded recognizer: CreditCardRecognizer\n",
      "2025-04-28 21:13:26 INFO Loaded recognizer: IbanRecognizer\n",
      "2025-04-28 21:13:26 INFO Added anonymizer CustomReplace\n"
     ]
    }
   ],
   "source": [
    "from pathlib import Path\n",
    "from logging import getLogger\n",
    "from pprint import pprint\n",
    "logger = getLogger(__name__)\n",
    "import logging\n",
    "logging.basicConfig(\n",
    "    format='%(asctime)s %(levelname)s %(message)s',\n",
    "    level=logging.INFO,\n",
    "    datefmt='%Y-%m-%d %H:%M:%S'\n",
    ")\n",
    "from ilsp_athenarc_asep_anonymizer.pii_anonymizer import PiiAnonymizer\n",
    "NL=\"\\n\"\n",
    "TAB=\"\\t\"\n",
    "anonymizer = PiiAnonymizer()\n"
   ]
  },
  {
   "cell_type": "code",
   "execution_count": 7,
   "id": "c789fea4",
   "metadata": {},
   "outputs": [
    {
     "name": "stderr",
     "output_type": "stream",
     "text": [
      "2025-04-28 21:13:26 WARNING Entity FAC is not mapped to a Presidio entity, but keeping anyway. Add to `NerModelConfiguration.labels_to_ignore` to remove.\n"
     ]
    },
    {
     "name": "stdout",
     "output_type": "stream",
     "text": [
      "Full text: Κατηγόρησαν τον δικηγόρο Τιερί Χερτσόγκ ότι επιχείρησε να δωροδοκήσει τον Ζιλμπέρ Αζιμπέρ, δικαστή στο Ακυρωτικό Δικαστήριο της Γαλλίας, με αντάλλαγμα απόρρητες πληροφορίες από άλλη έρευνα εναντίον του Σαρκοζί. Έκανε κατάθεση στο GR9608100010000001234567890. Έκανε κατάθεση στο GR96 0810 0010 0000 0123 4567 890. Κατοικεί στην Καλαμάτα, στην οδό Παπανικολή 56. Επικοινωνήστε μαζί μας τηλεφωνικά, καλώντας ΔΩΡΕΑΝ το Τμήμα Τηλεφωνικής Εξυπηρέτησης Πελατών, στο 800-900-1000 για οποιοδήποτε αίτημα ή πληροφορία. Για κλήσεις από το εξωτερικό μπορείτε να καλείτε στο +30 6997666262 ή στο +30 211 8675449. Το email του είναι stamatis.petropoulos@info.gr. Η διεύθυνσή του είναι Παπανικολή 56.\n",
      "Masked text: Κατηγόρησαν τον δικηγόρο {{PERSON}} ότι επιχείρησε να δωροδοκήσει τον {{PERSON}}, δικαστή στο Ακυρωτικό Δικαστήριο της {{LOCATION}}, με αντάλλαγμα απόρρητες πληροφορίες από άλλη έρευνα εναντίον του {{PERSON}}. Έκανε κατάθεση στο {{IBAN_CODE}}. Έκανε κατάθεση στο {{IBAN_CODE}}. Κατοικεί στην {{LOCATION}}, στην οδό {{ADDRESS}} Επικοινωνήστε μαζί μας τηλεφωνικά, καλώντας ΔΩΡΕΑΝ το Τμήμα Τηλεφωνικής Εξυπηρέτησης Πελατών, στο {{PHONE_NUMBER}} για οποιοδήποτε αίτημα ή πληροφορία. Για κλήσεις από το εξωτερικό μπορείτε να καλείτε στο +{{PHONE_NUMBER}} ή στο +{{PHONE_NUMBER}}. Το email του είναι {{EMAIL_ADDRESS}}. Η διεύθυνσή του είναι {{ADDRESS}}\n",
      "{'end_position': 39,\n",
      " 'entity_type': 'PERSON',\n",
      " 'entity_value': 'Τιερί Χερτσόγκ',\n",
      " 'operator': 'custom_replace',\n",
      " 'start_position': 25}\n",
      "{'end_position': 89,\n",
      " 'entity_type': 'PERSON',\n",
      " 'entity_value': 'Ζιλμπέρ Αζιμπέρ',\n",
      " 'operator': 'custom_replace',\n",
      " 'start_position': 74}\n",
      "{'end_position': 135,\n",
      " 'entity_type': 'LOCATION',\n",
      " 'entity_value': 'Γαλλίας',\n",
      " 'operator': 'custom_replace',\n",
      " 'start_position': 128}\n",
      "{'end_position': 209,\n",
      " 'entity_type': 'PERSON',\n",
      " 'entity_value': 'Σαρκοζί',\n",
      " 'operator': 'custom_replace',\n",
      " 'start_position': 202}\n",
      "{'end_position': 257,\n",
      " 'entity_type': 'IBAN_CODE',\n",
      " 'entity_value': 'GR9608100010000001234567890',\n",
      " 'operator': 'custom_replace',\n",
      " 'start_position': 230}\n",
      "{'end_position': 311,\n",
      " 'entity_type': 'IBAN_CODE',\n",
      " 'entity_value': 'GR96 0810 0010 0000 0123 4567 890',\n",
      " 'operator': 'custom_replace',\n",
      " 'start_position': 278}\n",
      "{'end_position': 335,\n",
      " 'entity_type': 'LOCATION',\n",
      " 'entity_value': 'Καλαμάτα',\n",
      " 'operator': 'custom_replace',\n",
      " 'start_position': 327}\n",
      "{'end_position': 360,\n",
      " 'entity_type': 'ADDRESS',\n",
      " 'entity_value': 'Παπανικολή 56.',\n",
      " 'operator': 'custom_replace',\n",
      " 'start_position': 346}\n",
      "{'end_position': 471,\n",
      " 'entity_type': 'PHONE_NUMBER',\n",
      " 'entity_value': '800-900-1000',\n",
      " 'operator': 'custom_replace',\n",
      " 'start_position': 459}\n",
      "{'end_position': 576,\n",
      " 'entity_type': 'PHONE_NUMBER',\n",
      " 'entity_value': '30 6997666262',\n",
      " 'operator': 'custom_replace',\n",
      " 'start_position': 563}\n",
      "{'end_position': 598,\n",
      " 'entity_type': 'PHONE_NUMBER',\n",
      " 'entity_value': '30 211 8675449',\n",
      " 'operator': 'custom_replace',\n",
      " 'start_position': 584}\n",
      "{'end_position': 647,\n",
      " 'entity_type': 'EMAIL_ADDRESS',\n",
      " 'entity_value': 'stamatis.petropoulos@info.gr',\n",
      " 'operator': 'custom_replace',\n",
      " 'start_position': 619}\n",
      "{'end_position': 685,\n",
      " 'entity_type': 'ADDRESS',\n",
      " 'entity_value': 'Παπανικολή 56.',\n",
      " 'operator': 'custom_replace',\n",
      " 'start_position': 671}\n",
      "=========================================\n",
      "\n"
     ]
    }
   ],
   "source": [
    "\n",
    "example_text = Path(\"../tests/resources/examples.txt\")\n",
    "with open(example_text, \"r\") as f:\n",
    "    text = f.read() \n",
    "\n",
    "anonymization_results = anonymizer.anonymize(text)\n",
    "\n",
    "for p_result in anonymization_results:\n",
    "    print(f'Full text: {p_result[\"full_text\"]}')\n",
    "    print(f'Masked text: {p_result[\"masked\"]}')\n",
    "    for span in p_result[\"spans\"]:\n",
    "        pprint(span)\n",
    "\n",
    "    print(\"=========================================\")\n",
    "    print(\"\")"
   ]
  },
  {
   "cell_type": "code",
   "execution_count": null,
   "id": "d85523fe-003f-46ff-a3fa-f8e0cbf23e07",
   "metadata": {},
   "outputs": [],
   "source": [
    "##from ilsp_athenarc_asep_anonymizer.recognizers.el_address_recognizer import ElAddressRecognizer\n",
    "##el_address_recognizer = ElAddressRecognizer()"
   ]
  },
  {
   "cell_type": "markdown",
   "id": "de9f4a45",
   "metadata": {},
   "source": []
  }
 ],
 "metadata": {
  "kernelspec": {
   "display_name": ".venv",
   "language": "python",
   "name": "python3"
  },
  "language_info": {
   "codemirror_mode": {
    "name": "ipython",
    "version": 3
   },
   "file_extension": ".py",
   "mimetype": "text/x-python",
   "name": "python",
   "nbconvert_exporter": "python",
   "pygments_lexer": "ipython3",
   "version": "3.11.4"
  },
  "toc-autonumbering": true
 },
 "nbformat": 4,
 "nbformat_minor": 5
}
