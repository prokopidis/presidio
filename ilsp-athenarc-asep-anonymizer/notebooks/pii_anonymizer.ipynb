{
 "cells": [
  {
   "cell_type": "markdown",
   "id": "f029d3d3-739c-4690-9fb4-4d1b21c35612",
   "metadata": {},
   "source": [
    "## Imports"
   ]
  },
  {
   "cell_type": "code",
   "execution_count": 1,
   "id": "896f33c7-c3a2-4c35-b2fa-3f265bf78916",
   "metadata": {
    "collapsed": true,
    "jupyter": {
     "outputs_hidden": true
    },
    "scrolled": true
   },
   "outputs": [],
   "source": [
    "#| echo: false\n",
    "#!pip install /data/home/prokopis/ilsp-nlp/ilsp_nlp/\n",
    "%load_ext autoreload\n",
    "%autoreload 2\n"
   ]
  },
  {
   "cell_type": "code",
   "execution_count": 2,
   "id": "6cf5d11e",
   "metadata": {},
   "outputs": [
    {
     "name": "stderr",
     "output_type": "stream",
     "text": [
      "/data/home/prokopis/src/presidio/ilsp-athenarc-asep-anonymizer/.venv/lib/python3.11/site-packages/tqdm/auto.py:21: TqdmWarning: IProgress not found. Please update jupyter and ipywidgets. See https://ipywidgets.readthedocs.io/en/stable/user_install.html\n",
      "  from .autonotebook import tqdm as notebook_tqdm\n",
      "2025-04-28 21:35:38 INFO Initializing Stanza NLP engine for Greek language.\n",
      "2025-04-28 21:35:38 WARNING model_to_presidio_entity_mapping is missing from configuration, using default\n",
      "2025-04-28 21:35:38 WARNING low_score_entity_names is missing from configuration, using default\n",
      "2025-04-28 21:35:38 WARNING labels_to_ignore is missing from configuration, using default\n",
      "2025-04-28 21:35:38 WARNING Language el package default expects mwt, which has been added\n",
      "2025-04-28 21:35:38 INFO Loading these models for language: el (Greek):\n",
      "============================\n",
      "| Processor | Package      |\n",
      "----------------------------\n",
      "| tokenize  | gdt          |\n",
      "| mwt       | gdt          |\n",
      "| pos       | gdt_nocharlm |\n",
      "| lemma     | gdt_nocharlm |\n",
      "| ner       | default      |\n",
      "============================\n",
      "\n",
      "2025-04-28 21:35:38 INFO Using device: cuda\n",
      "2025-04-28 21:35:38 INFO Loading: tokenize\n",
      "2025-04-28 21:35:39 INFO Loading: mwt\n",
      "2025-04-28 21:35:39 INFO Loading: pos\n",
      "2025-04-28 21:35:40 INFO Loading: lemma\n",
      "2025-04-28 21:35:41 INFO Loading: ner\n",
      "2025-04-28 21:35:43 INFO Done loading processors!\n",
      "2025-04-28 21:35:43 INFO registry not provided, creating default.\n",
      "2025-04-28 21:35:43 INFO Loaded recognizer: CreditCardRecognizer\n",
      "2025-04-28 21:35:43 INFO Loaded recognizer: CreditCardRecognizer\n",
      "2025-04-28 21:35:43 INFO Loaded recognizer: CreditCardRecognizer\n",
      "2025-04-28 21:35:43 INFO Loaded recognizer: CreditCardRecognizer\n",
      "2025-04-28 21:35:43 INFO Loaded recognizer: UsBankRecognizer\n",
      "2025-04-28 21:35:43 INFO Loaded recognizer: UsLicenseRecognizer\n",
      "2025-04-28 21:35:43 INFO Loaded recognizer: UsItinRecognizer\n",
      "2025-04-28 21:35:43 INFO Loaded recognizer: UsPassportRecognizer\n",
      "2025-04-28 21:35:43 INFO Loaded recognizer: UsSsnRecognizer\n",
      "2025-04-28 21:35:43 INFO Loaded recognizer: NhsRecognizer\n",
      "2025-04-28 21:35:43 INFO Loaded recognizer: UkNinoRecognizer\n",
      "2025-04-28 21:35:43 INFO Loaded recognizer: SgFinRecognizer\n",
      "2025-04-28 21:35:43 INFO Loaded recognizer: AuAbnRecognizer\n",
      "2025-04-28 21:35:43 INFO Loaded recognizer: AuAcnRecognizer\n",
      "2025-04-28 21:35:43 INFO Loaded recognizer: AuTfnRecognizer\n",
      "2025-04-28 21:35:43 INFO Loaded recognizer: AuMedicareRecognizer\n",
      "2025-04-28 21:35:43 INFO Loaded recognizer: InPanRecognizer\n",
      "2025-04-28 21:35:43 INFO Loaded recognizer: InAadhaarRecognizer\n",
      "2025-04-28 21:35:43 INFO Loaded recognizer: InVehicleRegistrationRecognizer\n",
      "2025-04-28 21:35:43 INFO Loaded recognizer: InPassportRecognizer\n",
      "2025-04-28 21:35:43 INFO Loaded recognizer: EsNifRecognizer\n",
      "2025-04-28 21:35:43 INFO Loaded recognizer: EsNieRecognizer\n",
      "2025-04-28 21:35:43 INFO Loaded recognizer: ItDriverLicenseRecognizer\n",
      "2025-04-28 21:35:43 INFO Loaded recognizer: ItFiscalCodeRecognizer\n",
      "2025-04-28 21:35:43 INFO Loaded recognizer: ItVatCodeRecognizer\n",
      "2025-04-28 21:35:43 INFO Loaded recognizer: ItIdentityCardRecognizer\n",
      "2025-04-28 21:35:43 INFO Loaded recognizer: ItPassportRecognizer\n",
      "2025-04-28 21:35:43 INFO Loaded recognizer: PlPeselRecognizer\n",
      "2025-04-28 21:35:43 INFO Loaded recognizer: CryptoRecognizer\n",
      "2025-04-28 21:35:43 INFO Loaded recognizer: DateRecognizer\n",
      "2025-04-28 21:35:43 INFO Loaded recognizer: EmailRecognizer\n",
      "2025-04-28 21:35:43 INFO Loaded recognizer: IbanRecognizer\n",
      "2025-04-28 21:35:43 INFO Loaded recognizer: IpRecognizer\n",
      "2025-04-28 21:35:43 INFO Loaded recognizer: MedicalLicenseRecognizer\n",
      "2025-04-28 21:35:43 INFO Loaded recognizer: PhoneRecognizer\n",
      "2025-04-28 21:35:43 INFO Loaded recognizer: UrlRecognizer\n",
      "2025-04-28 21:35:43 INFO Loaded recognizer: InVoterRecognizer\n",
      "2025-04-28 21:35:43 WARNING Recognizer not added to registry because language is not supported by registry - CreditCardRecognizer supported languages: es, registry supported languages: en\n",
      "2025-04-28 21:35:43 WARNING Recognizer not added to registry because language is not supported by registry - CreditCardRecognizer supported languages: it, registry supported languages: en\n",
      "2025-04-28 21:35:43 WARNING Recognizer not added to registry because language is not supported by registry - CreditCardRecognizer supported languages: pl, registry supported languages: en\n",
      "2025-04-28 21:35:43 WARNING Recognizer not added to registry because language is not supported by registry - EsNifRecognizer supported languages: es, registry supported languages: en\n",
      "2025-04-28 21:35:43 WARNING Recognizer not added to registry because language is not supported by registry - EsNieRecognizer supported languages: es, registry supported languages: en\n",
      "2025-04-28 21:35:43 WARNING Recognizer not added to registry because language is not supported by registry - ItDriverLicenseRecognizer supported languages: it, registry supported languages: en\n",
      "2025-04-28 21:35:43 WARNING Recognizer not added to registry because language is not supported by registry - ItFiscalCodeRecognizer supported languages: it, registry supported languages: en\n",
      "2025-04-28 21:35:43 WARNING Recognizer not added to registry because language is not supported by registry - ItVatCodeRecognizer supported languages: it, registry supported languages: en\n",
      "2025-04-28 21:35:43 WARNING Recognizer not added to registry because language is not supported by registry - ItIdentityCardRecognizer supported languages: it, registry supported languages: en\n",
      "2025-04-28 21:35:43 WARNING Recognizer not added to registry because language is not supported by registry - ItPassportRecognizer supported languages: it, registry supported languages: en\n",
      "2025-04-28 21:35:43 WARNING Recognizer not added to registry because language is not supported by registry - PlPeselRecognizer supported languages: pl, registry supported languages: en\n",
      "2025-04-28 21:35:43 INFO Loaded recognizer: StanzaRecognizer\n",
      "2025-04-28 21:35:43 INFO Loaded recognizer: EmailRecognizer\n",
      "2025-04-28 21:35:43 INFO Loaded recognizer: ElPhoneRecognizer\n"
     ]
    },
    {
     "name": "stdout",
     "output_type": "stream",
     "text": [
      "2025-04-28 21:35:45,870 SequenceTagger predicts: Dictionary with 25 tags: O, S-DOCUMENT, B-DOCUMENT, E-DOCUMENT, I-DOCUMENT, S-PERSON, B-PERSON, E-PERSON, I-PERSON, S-FAC, B-FAC, E-FAC, I-FAC, S-GPE, B-GPE, E-GPE, I-GPE, S-ORG, B-ORG, E-ORG, I-ORG, S-MISC, B-MISC, E-MISC, I-MISC\n"
     ]
    },
    {
     "name": "stderr",
     "output_type": "stream",
     "text": [
      "2025-04-28 21:35:45 INFO Loaded recognizer: ElAddressRecognizer\n",
      "2025-04-28 21:35:45 INFO Loaded address model from ilsp/justice decisions-ner-model.pt\n",
      "2025-04-28 21:35:45 INFO Loaded recognizer: CreditCardRecognizer\n",
      "2025-04-28 21:35:45 INFO Loaded recognizer: IbanRecognizer\n",
      "2025-04-28 21:35:45 INFO Added anonymizer CustomReplace\n"
     ]
    }
   ],
   "source": [
    "from pathlib import Path\n",
    "from logging import getLogger\n",
    "from pprint import pprint\n",
    "logger = getLogger(__name__)\n",
    "import logging\n",
    "logging.basicConfig(\n",
    "    format='%(asctime)s %(levelname)s %(message)s',\n",
    "    level=logging.INFO,\n",
    "    datefmt='%Y-%m-%d %H:%M:%S'\n",
    ")\n",
    "from ilsp_athenarc_asep_anonymizer.pii_anonymizer import PiiAnonymizer\n",
    "NL=\"\\n\"\n",
    "TAB=\"\\t\"\n",
    "anonymizer = PiiAnonymizer()\n"
   ]
  },
  {
   "cell_type": "code",
   "execution_count": 3,
   "id": "c789fea4",
   "metadata": {},
   "outputs": [
    {
     "name": "stderr",
     "output_type": "stream",
     "text": [
      "2025-04-28 21:35:46 WARNING Entity FAC is not mapped to a Presidio entity, but keeping anyway. Add to `NerModelConfiguration.labels_to_ignore` to remove.\n"
     ]
    },
    {
     "name": "stdout",
     "output_type": "stream",
     "text": [
      "Full text: Κατηγόρησαν τον δικηγόρο Τιερί Χερτσόγκ ότι επιχείρησε να δωροδοκήσει τον Ζιλμπέρ Αζιμπέρ, δικαστή στο Ακυρωτικό Δικαστήριο της Γαλλίας, με αντάλλαγμα απόρρητες πληροφορίες από άλλη έρευνα εναντίον του Σαρκοζί. Έκανε κατάθεση στο GR9608100010000001234567890. Έκανε κατάθεση στο GR96 0810 0010 0000 0123 4567 890. Κατοικεί στην Καλαμάτα, στην οδό Παπανικολή 56. Επικοινωνήστε μαζί μας τηλεφωνικά, καλώντας ΔΩΡΕΑΝ το Τμήμα Τηλεφωνικής Εξυπηρέτησης Πελατών, στο 800-900-1000 για οποιοδήποτε αίτημα ή πληροφορία. Για κλήσεις από το εξωτερικό μπορείτε να καλείτε στο +30 6997666262 ή στο +30 211 8675449. Το email του είναι stamatis.petropoulos@info.gr. Η διεύθυνσή του είναι Παπανικολή 56.\n",
      "Masked text: Κατηγόρησαν τον δικηγόρο {{PERSON}} ότι επιχείρησε να δωροδοκήσει τον {{PERSON}}, δικαστή στο Ακυρωτικό Δικαστήριο της {{LOCATION}}, με αντάλλαγμα απόρρητες πληροφορίες από άλλη έρευνα εναντίον του {{PERSON}}. Έκανε κατάθεση στο {{IBAN_CODE}}. Έκανε κατάθεση στο {{IBAN_CODE}}. Κατοικεί στην {{LOCATION}}, στην οδό {{ADDRESS}} Επικοινωνήστε μαζί μας τηλεφωνικά, καλώντας ΔΩΡΕΑΝ το Τμήμα Τηλεφωνικής Εξυπηρέτησης Πελατών, στο {{PHONE_NUMBER}} για οποιοδήποτε αίτημα ή πληροφορία. Για κλήσεις από το εξωτερικό μπορείτε να καλείτε στο +{{PHONE_NUMBER}} ή στο +{{PHONE_NUMBER}}. Το email του είναι {{EMAIL_ADDRESS}}. Η διεύθυνσή του είναι {{ADDRESS}}\n",
      "{'end_position': 39,\n",
      " 'entity_type': 'PERSON',\n",
      " 'entity_value': 'Τιερί Χερτσόγκ',\n",
      " 'start_position': 25}\n",
      "{'end_position': 89,\n",
      " 'entity_type': 'PERSON',\n",
      " 'entity_value': 'Ζιλμπέρ Αζιμπέρ',\n",
      " 'start_position': 74}\n",
      "{'end_position': 135,\n",
      " 'entity_type': 'LOCATION',\n",
      " 'entity_value': 'Γαλλίας',\n",
      " 'start_position': 128}\n",
      "{'end_position': 209,\n",
      " 'entity_type': 'PERSON',\n",
      " 'entity_value': 'Σαρκοζί',\n",
      " 'start_position': 202}\n",
      "{'end_position': 257,\n",
      " 'entity_type': 'IBAN_CODE',\n",
      " 'entity_value': 'GR9608100010000001234567890',\n",
      " 'start_position': 230}\n",
      "{'end_position': 311,\n",
      " 'entity_type': 'IBAN_CODE',\n",
      " 'entity_value': 'GR96 0810 0010 0000 0123 4567 890',\n",
      " 'start_position': 278}\n",
      "{'end_position': 335,\n",
      " 'entity_type': 'LOCATION',\n",
      " 'entity_value': 'Καλαμάτα',\n",
      " 'start_position': 327}\n",
      "{'end_position': 360,\n",
      " 'entity_type': 'ADDRESS',\n",
      " 'entity_value': 'Παπανικολή 56.',\n",
      " 'start_position': 346}\n",
      "{'end_position': 471,\n",
      " 'entity_type': 'PHONE_NUMBER',\n",
      " 'entity_value': '800-900-1000',\n",
      " 'start_position': 459}\n",
      "{'end_position': 576,\n",
      " 'entity_type': 'PHONE_NUMBER',\n",
      " 'entity_value': '30 6997666262',\n",
      " 'start_position': 563}\n",
      "{'end_position': 598,\n",
      " 'entity_type': 'PHONE_NUMBER',\n",
      " 'entity_value': '30 211 8675449',\n",
      " 'start_position': 584}\n",
      "{'end_position': 647,\n",
      " 'entity_type': 'EMAIL_ADDRESS',\n",
      " 'entity_value': 'stamatis.petropoulos@info.gr',\n",
      " 'start_position': 619}\n",
      "{'end_position': 685,\n",
      " 'entity_type': 'ADDRESS',\n",
      " 'entity_value': 'Παπανικολή 56.',\n",
      " 'start_position': 671}\n",
      "=========================================\n",
      "\n"
     ]
    }
   ],
   "source": [
    "\n",
    "example_text = Path(\"../tests/resources/examples.txt\")\n",
    "with open(example_text, \"r\") as f:\n",
    "    text = f.read() \n",
    "\n",
    "anonymization_results = anonymizer.anonymize(text)\n",
    "\n",
    "for p_result in anonymization_results:\n",
    "    print(f'Full text: {p_result[\"full_text\"]}')\n",
    "    print(f'Masked text: {p_result[\"masked\"]}')\n",
    "    for span in p_result[\"spans\"]:\n",
    "        pprint(span)\n",
    "\n",
    "    print(\"=========================================\")\n",
    "    print(\"\")"
   ]
  },
  {
   "cell_type": "code",
   "execution_count": 4,
   "id": "d85523fe-003f-46ff-a3fa-f8e0cbf23e07",
   "metadata": {},
   "outputs": [],
   "source": [
    "##from ilsp_athenarc_asep_anonymizer.recognizers.el_address_recognizer import ElAddressRecognizer\n",
    "##el_address_recognizer = ElAddressRecognizer()"
   ]
  },
  {
   "cell_type": "markdown",
   "id": "de9f4a45",
   "metadata": {},
   "source": []
  }
 ],
 "metadata": {
  "kernelspec": {
   "display_name": ".venv",
   "language": "python",
   "name": "python3"
  },
  "language_info": {
   "codemirror_mode": {
    "name": "ipython",
    "version": 3
   },
   "file_extension": ".py",
   "mimetype": "text/x-python",
   "name": "python",
   "nbconvert_exporter": "python",
   "pygments_lexer": "ipython3",
   "version": "3.11.4"
  },
  "toc-autonumbering": true
 },
 "nbformat": 4,
 "nbformat_minor": 5
}
